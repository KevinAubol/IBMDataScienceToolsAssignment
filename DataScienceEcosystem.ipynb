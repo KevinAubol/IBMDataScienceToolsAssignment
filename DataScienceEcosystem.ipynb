{
 "cells": [
  {
   "cell_type": "markdown",
   "id": "c5033245",
   "metadata": {},
   "source": [
    "# Data Science Tools and Ecosystem"
   ]
  },
  {
   "cell_type": "markdown",
   "id": "b1203567",
   "metadata": {},
   "source": [
    "This notebook summarizes Data Science Tools and Ecosystems."
   ]
  },
  {
   "cell_type": "markdown",
   "id": "792662c5",
   "metadata": {},
   "source": [
    "**Objectives:**\n",
    " - List languages commonly used by data scientists\n",
    " - List libraries commonly used by data scientists\n",
    " - List tools commonly used by data scientists\n",
    " - Demonstrate arithmetic expressions in Python"
   ]
  },
  {
   "cell_type": "markdown",
   "id": "5b16ff5b",
   "metadata": {},
   "source": [
    "Some of the languages that are commonly used by data scientists include:\n",
    "1. Python\n",
    "1. R\n",
    "1. Scala\n",
    "1. Julia\n",
    "1. SQL"
   ]
  },
  {
   "cell_type": "markdown",
   "id": "00319b14",
   "metadata": {},
   "source": [
    "Some of the libraries that are commonly used by data scientists include:\n",
    "1. NumPy\n",
    "1. Pandas\n",
    "1. SciPy\n",
    "1. TensorFlow\n",
    "1. Matplotlib\n",
    "1. Ggplot\n",
    "1. PyTorch"
   ]
  },
  {
   "cell_type": "markdown",
   "id": "88f2b953",
   "metadata": {},
   "source": [
    "|Data Science Tools|\n",
    "|:----------------:|\n",
    "| Jupyter Notebooks|\n",
    "| R Studio         |\n",
    "| Apache Hadoop    |"
   ]
  },
  {
   "cell_type": "markdown",
   "id": "c8319cd0",
   "metadata": {},
   "source": [
    "A few examples demonstrating how to evaluate arithmetic expressions in Python are included below."
   ]
  },
  {
   "cell_type": "code",
   "execution_count": 1,
   "id": "e780b1f8",
   "metadata": {},
   "outputs": [
    {
     "data": {
      "text/plain": [
       "17"
      ]
     },
     "execution_count": 1,
     "metadata": {},
     "output_type": "execute_result"
    }
   ],
   "source": [
    "# This is a simple arithmetic expression to multiply then add integers.\n",
    "(3*4)+5"
   ]
  },
  {
   "cell_type": "code",
   "execution_count": 2,
   "id": "f0858586",
   "metadata": {},
   "outputs": [
    {
     "name": "stdout",
     "output_type": "stream",
     "text": [
      "3.33 hours\n"
     ]
    }
   ],
   "source": [
    "# This will convert 200 minutes to hours by dividing by 60\n",
    "minutes = 200\n",
    "hours = minutes/60\n",
    "print(round(hours, 2), \"hours\")"
   ]
  },
  {
   "cell_type": "markdown",
   "id": "c004be1a",
   "metadata": {},
   "source": [
    "## Author\n",
    "Kevin Aubol"
   ]
  }
 ],
 "metadata": {
  "kernelspec": {
   "display_name": "Python 3 (ipykernel)",
   "language": "python",
   "name": "python3"
  },
  "language_info": {
   "codemirror_mode": {
    "name": "ipython",
    "version": 3
   },
   "file_extension": ".py",
   "mimetype": "text/x-python",
   "name": "python",
   "nbconvert_exporter": "python",
   "pygments_lexer": "ipython3",
   "version": "3.10.9"
  }
 },
 "nbformat": 4,
 "nbformat_minor": 5
}
